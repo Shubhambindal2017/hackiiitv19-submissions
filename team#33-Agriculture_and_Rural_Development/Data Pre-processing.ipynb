{
  "nbformat": 4,
  "nbformat_minor": 0,
  "metadata": {
    "colab": {
      "name": "HACK-IIITV.ipynb",
      "provenance": []
    },
    "kernelspec": {
      "name": "python3",
      "display_name": "Python 3"
    },
    "accelerator": "GPU"
  },
  "cells": [
    {
      "cell_type": "code",
      "metadata": {
        "id": "n4-v3Jmeir-V",
        "colab_type": "code",
        "colab": {}
      },
      "source": [
        "import datetime\n",
        "import xlsxwriter\n",
        "import chardet\n",
        "import warnings\n",
        "import numpy as np\n",
        "import pandas as pd\n",
        "import seaborn as sns\n",
        "import matplotlib.pyplot as plt\n",
        "from sklearn.metrics import mean_squared_error\n",
        "from sklearn.linear_model import LinearRegression\n",
        "from sklearn.neighbors import KNeighborsRegressor\n",
        "from sklearn.ensemble import RandomForestRegressor\n",
        "from sklearn.preprocessing import StandardScaler, MinMaxScaler"
      ],
      "execution_count": 0,
      "outputs": []
    },
    {
      "cell_type": "code",
      "metadata": {
        "id": "c73FpyQ7ZFJX",
        "colab_type": "code",
        "outputId": "f1dc836f-adbf-4ab4-fddd-416ec64af0df",
        "colab": {
          "base_uri": "https://localhost:8080/",
          "height": 122
        }
      },
      "source": [
        "!pip install xlsxwriter"
      ],
      "execution_count": 0,
      "outputs": [
        {
          "output_type": "stream",
          "text": [
            "Collecting xlsxwriter\n",
            "\u001b[?25l  Downloading https://files.pythonhosted.org/packages/82/50/780122e4790328c195475d6e49a07fb69593508355dfee98bfb22686d9e8/XlsxWriter-1.2.1-py2.py3-none-any.whl (140kB)\n",
            "\u001b[K     |████████████████████████████████| 143kB 6.5MB/s \n",
            "\u001b[?25hInstalling collected packages: xlsxwriter\n",
            "Successfully installed xlsxwriter-1.2.1\n"
          ],
          "name": "stdout"
        }
      ]
    },
    {
      "cell_type": "code",
      "metadata": {
        "id": "8rdBdbBR-jjX",
        "colab_type": "code",
        "colab": {}
      },
      "source": [
        "crops = pd.read_excel('Crops_dataset.xlsx')\n",
        "rainfall = pd.read_excel('Rainfall_dataset.xlsx')\n",
        "rainfall = rainfall.drop(['Unnamed: 1','Rainfall'],axis=1)\n",
        "region = pd.read_excel('Region_dataset.xlsx')"
      ],
      "execution_count": 0,
      "outputs": []
    },
    {
      "cell_type": "code",
      "metadata": {
        "id": "Shk8tQU9Hji8",
        "colab_type": "code",
        "colab": {}
      },
      "source": [
        "merge1 = pd.merge(crops, region, how='inner', on=['Crops'])\n",
        "merge2 = pd.merge(merge1, rainfall, how='inner', on=['Region'])"
      ],
      "execution_count": 0,
      "outputs": []
    },
    {
      "cell_type": "code",
      "metadata": {
        "id": "wHY7C97HZ-qs",
        "colab_type": "code",
        "colab": {}
      },
      "source": [
        "merge = merge2.drop(['Unnamed: 4','Unnamed: 1_x','Unnamed: 1_y','Rainfall'],axis=1)"
      ],
      "execution_count": 0,
      "outputs": []
    },
    {
      "cell_type": "code",
      "metadata": {
        "id": "m1Tti71HIF3y",
        "colab_type": "code",
        "colab": {}
      },
      "source": [
        "writer = pd.ExcelWriter(\"train_data.xlsx\" , engine='xlsxwriter')\n",
        "merge2.to_excel(writer, sheet_name='Sheet1')\n",
        "writer.save()"
      ],
      "execution_count": 0,
      "outputs": []
    },
    {
      "cell_type": "code",
      "metadata": {
        "id": "UZGegq6EfqEa",
        "colab_type": "code",
        "outputId": "ca9f06ee-7928-48ec-ce71-ea3a537db1c1",
        "colab": {
          "base_uri": "https://localhost:8080/",
          "height": 646
        }
      },
      "source": [
        "#rainfall_diff = np.zeros((34,12))\n",
        "\n",
        "merge2['Jan']=merge2['Jan']-merge2['water need']\n",
        "merge2['Feb']=merge2['Feb']-merge2['water need']\n",
        "merge2['March']=merge2['March']-merge2['water need']\n",
        "merge2['April']=merge2['April']-merge2['water need']\n",
        "merge2['May']=merge2['May']-merge2['water need']\n",
        "merge2['June']=merge2['June']-merge2['water need']\n",
        "merge2['July']=merge2['July']-merge2['water need']\n",
        "merge2['Aug']=merge2['Aug']-merge2['water need']\n",
        "merge2['Sep']=merge2['Sep']-merge2['water need']\n",
        "merge2['Oct']=merge2['Oct']-merge2['water need']\n",
        "merge2['Nov']=merge2['Nov']-merge2['water need']\n",
        "merge2['Dec']=merge2['Dec']-merge2['water need']\n",
        "print(merge2)"
      ],
      "execution_count": 83,
      "outputs": [
        {
          "output_type": "stream",
          "text": [
            "           Crops  water need  temp(in C)  ...    Oct    Nov    Dec\n",
            "0           Rice       125.0        21.0  ... -118.1 -123.0 -122.0\n",
            "1          Wheat        50.0        18.5  ...  -43.1  -48.0  -47.0\n",
            "2         Lentil        37.5        20.0  ...  -30.6  -35.5  -34.5\n",
            "3      Sugarcane       120.0        27.5  ... -113.1 -118.0 -117.0\n",
            "4           Rice       125.0        21.0  ... -114.6 -125.0 -125.0\n",
            "5            Tea       175.0        25.0  ... -164.6 -175.0 -175.0\n",
            "6           Jute       200.0        30.0  ... -189.6 -200.0 -200.0\n",
            "7       Turmeric       200.0        25.0  ... -189.6 -200.0 -200.0\n",
            "8           Rice       125.0        21.0  ... -116.0 -124.2 -124.3\n",
            "9          Wheat        50.0        18.5  ...  -41.0  -49.2  -49.3\n",
            "10      Oilseeds        40.0        23.5  ...  -31.0  -39.2  -39.3\n",
            "11     Sugarcane       120.0        27.5  ... -111.0 -119.2 -119.3\n",
            "12         Wheat        50.0        18.5  ...   -1.7  -33.8  -49.9\n",
            "13         Maize        90.0        21.0  ...  -41.7  -73.8  -89.9\n",
            "14        Pulses        42.5        23.5  ...    5.8  -26.3  -42.4\n",
            "15        Lentil        37.5        20.0  ...   10.8  -21.3  -37.4\n",
            "16        Cotton        85.0        22.5  ...  -36.7  -68.8  -84.9\n",
            "17          Jute       200.0        30.0  ... -151.7 -183.8 -199.9\n",
            "18         Maize        90.0        21.0  ...   16.1   48.1  -85.6\n",
            "19       Millets        50.0        27.5  ...   56.1   88.1  -45.6\n",
            "20        Cotton        85.0        22.5  ...   21.1   53.1  -80.6\n",
            "21         Cocoa       175.0        27.0  ...  -68.9  -36.9 -170.6\n",
            "22       Coconut       175.0        27.0  ...  -68.9  -36.9 -170.6\n",
            "23       Millets        50.0        27.5  ...  258.1  173.6   29.4\n",
            "24         Cocoa       175.0        27.0  ...  133.1   48.6  -95.6\n",
            "25        Rubber       200.0        27.0  ...  108.1   23.6 -120.6\n",
            "26       Coconut       175.0        27.0  ...  133.1   48.6  -95.6\n",
            "27  Black Pepper       250.0        26.0  ...   58.1  -26.4 -170.6\n",
            "28      Oilseeds        40.0        23.5  ...  -37.8  -39.7  -40.0\n",
            "29     Groundnut        63.5        25.0  ...  -61.3  -63.2  -63.5\n",
            "30        Cotton        85.0        22.5  ...  -82.8  -84.7  -85.0\n",
            "31           Tea       175.0        25.0  ... -112.4 -161.0 -159.8\n",
            "32          Jute       200.0        30.0  ... -137.4 -186.0 -184.8\n",
            "33      Turmeric       200.0        25.0  ... -137.4 -186.0 -184.8\n",
            "\n",
            "[34 rows x 32 columns]\n"
          ],
          "name": "stdout"
        }
      ]
    },
    {
      "cell_type": "code",
      "metadata": {
        "id": "fvo62g3yg3CV",
        "colab_type": "code",
        "colab": {}
      },
      "source": [
        "Y_train = merge2['Crops']\n",
        "\n",
        "X_train = merge2.drop(['water need','Crops','Unnamed: 4','Rainfall','Unnamed: 1_x','Unnamed: 1_y'],axis=1)"
      ],
      "execution_count": 0,
      "outputs": []
    },
    {
      "cell_type": "code",
      "metadata": {
        "id": "KYAE6CFOrgyY",
        "colab_type": "code",
        "colab": {}
      },
      "source": [
        "writer = pd.ExcelWriter(\"X_train.xlsx\" , engine='xlsxwriter')\n",
        "X_train.to_excel(writer, sheet_name='Sheet1')\n",
        "writer.save()\n",
        "\n",
        "writer = pd.ExcelWriter(\"Y_train.xlsx\" , engine='xlsxwriter')\n",
        "Y_train.to_excel(writer, sheet_name='Sheet1')\n",
        "writer.save()"
      ],
      "execution_count": 0,
      "outputs": []
    },
    {
      "cell_type": "code",
      "metadata": {
        "id": "qf-Z7XBZrsBA",
        "colab_type": "code",
        "colab": {}
      },
      "source": [
        ""
      ],
      "execution_count": 0,
      "outputs": []
    }
  ]
}